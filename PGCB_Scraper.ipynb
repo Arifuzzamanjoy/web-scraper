{
 "cells": [
  {
   "cell_type": "markdown",
   "metadata": {},
   "source": [
    "This Piece of code is used to scrape the data from the website PGCB and store it in a csv file."
   ]
  },
  {
   "cell_type": "code",
   "execution_count": null,
   "metadata": {},
   "outputs": [],
   "source": [
    "#2nd page https://web.pgcb.gov.bd/officers/show_officers?page=2 / 3rd page https://web.pgcb.gov.bd/officers/show_officers?page=3\n",
    "#4th page https://web.pgcb.gov.bd/officers/show_officers?page=4 / 5th page https://web.pgcb.gov.bd/officers/show_officers?page=5\n",
    "#there are 50 pages\n",
    "#iterate through all pages\n",
    "for i in range(2,43):\n",
    "    url='https://web.pgcb.gov.bd/officers/show_officers?page='+str(i)\n",
    "    driver = webdriver.Chrome()\n",
    "    driver.get(url)\n",
    "\n",
    "    officers = WebDriverWait(driver, 10).until(\n",
    "        EC.presence_of_all_elements_located((By.XPATH, '//div[@class=\"card mb-1\"]'))\n",
    "    )\n",
    "\n",
    "    for officer in officers:\n",
    "        name = officer.find_element(By.XPATH, './/td[contains(text(), \"Name\")]/following-sibling::td').text.strip()\n",
    "        mobile = officer.find_element(By.XPATH, './/td[contains(text(), \"Mobile\")]/following-sibling::td').text.strip()\n",
    "        designation = officer.find_element(By.XPATH, './/td[contains(text(), \"Designation\")]/following-sibling::td').text.strip()\n",
    "        Email = officer.find_element(By.XPATH, './/td[contains(text(), \"E-mail\")]/following-sibling::td').text.strip()\n",
    "        office = officer.find_element(By.XPATH, './/td[contains(text(), \"Office\")]/following-sibling::td').text.strip()\n",
    "    \n",
    "        officersPGCB=officersPGCB.append({'Name':name, 'Mobile':mobile, 'Designation':designation, 'Email':Email, 'Office':office}, ignore_index=True)\n",
    "    \n",
    "\n",
    "\n",
    "    driver.quit()\n",
    "officersPGCB.to_csv('officersPGCB.csv', index=False)"
   ]
  }
 ],
 "metadata": {
  "language_info": {
   "name": "python"
  },
  "orig_nbformat": 4
 },
 "nbformat": 4,
 "nbformat_minor": 2
}
